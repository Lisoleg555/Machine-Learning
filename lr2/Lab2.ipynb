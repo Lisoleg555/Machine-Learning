{
  "nbformat": 4,
  "nbformat_minor": 0,
  "metadata": {
    "kernelspec": {
      "display_name": "Python 3",
      "language": "python",
      "name": "python3"
    },
    "language_info": {
      "codemirror_mode": {
        "name": "ipython",
        "version": 3
      },
      "file_extension": ".py",
      "mimetype": "text/x-python",
      "name": "python",
      "nbconvert_exporter": "python",
      "pygments_lexer": "ipython3",
      "version": "3.7.6"
    },
    "colab": {
      "name": "Lab2.ipynb",
      "provenance": [],
      "collapsed_sections": [],
      "toc_visible": true
    }
  },
  "cells": [
    {
      "cell_type": "code",
      "metadata": {
        "id": "J3aex11XG1R7",
        "colab_type": "code",
        "colab": {}
      },
      "source": [
        "import pandas\n",
        "import cvxopt\n",
        "import numpy as np\n",
        "from sklearn.metrics import precision_score, recall_score, accuracy_score\n",
        "from sklearn.model_selection import StratifiedKFold\n",
        "from sklearn.utils import check_random_state\n",
        "from sklearn import preprocessing\n",
        "from sklearn.model_selection import train_test_split\n",
        "from sklearn.linear_model import LogisticRegression\n",
        "from sklearn.neighbors import KNeighborsClassifier\n",
        "from sklearn.tree import DecisionTreeClassifier\n",
        "from sklearn.svm import SVC\n",
        "import warnings\n",
        "warnings.filterwarnings(\"ignore\")"
      ],
      "execution_count": 1,
      "outputs": []
    },
    {
      "cell_type": "code",
      "metadata": {
        "id": "Qv3dzwsKG1lo",
        "colab_type": "code",
        "colab": {}
      },
      "source": [
        "def print_metrics(Method, X, y, folds = 5, average = 'macro'):\n",
        "  kf = StratifiedKFold(n_splits = folds, random_state = 123, shuffle = True)\n",
        "  precision = np.zeros(folds)   \n",
        "  recall = np.zeros(folds)  \n",
        "  testAc = np.zeros(folds)\n",
        "  trainAc = np.zeros(folds)\n",
        "  for i, (trainI, valI) in enumerate(kf.split(X, y)):\n",
        "    XT, yT = X.loc[trainI].to_numpy(), y.loc[trainI].to_numpy()\n",
        "    XV, yV = X.loc[valI].to_numpy(), y.loc[valI].to_numpy()\n",
        "    Method.fit(XT, yT)\n",
        "    yP = Method.predict(XV)\n",
        "    yTP = Method.predict(XT)\n",
        "    precision[i] = precision_score(yV, yP, average = average)\n",
        "    recall[i] = recall_score(yV, yP, average = average)\n",
        "    trainAc[i] = accuracy_score(yT, yTP)\n",
        "    testAc[i] = accuracy_score(yV, yP)    \n",
        "  print(\"precision:\", precision.mean(), \"\\nrecall:\", recall.mean(), \"\\n\\ntrain_accuracy:\", trainAc.mean(), \"\\ntest_accuracy:\", testAc.mean())"
      ],
      "execution_count": 3,
      "outputs": []
    },
    {
      "cell_type": "code",
      "metadata": {
        "id": "IYTVDoMsG7M2",
        "colab_type": "code",
        "colab": {}
      },
      "source": [
        "class LogReg():\n",
        "  def __init__(self, accuracy = 0.01, iters = 1000):\n",
        "    self.it = iters\n",
        "    self.ac = accuracy\n",
        "        \n",
        "  def Sigmoid(self, x):\n",
        "    return 1 / (1 + np.exp(-x))\n",
        "\n",
        "  def AddIntercept(self, X):\n",
        "    return np.concatenate((np.ones((X.shape[0], 1)), X), axis = 1)\n",
        "\n",
        "  def Loss(self, h, y):\n",
        "    return (-y * np.log(h) - (1 - y) * np.log(1 - h)).mean()\n",
        "\n",
        "  def fit(self, X, y):\n",
        "    X = self.AddIntercept(X)\n",
        "    self.wei = np.zeros(X.shape[1])\n",
        "    for _ in range(self.it):\n",
        "      h = self.Sigmoid(np.dot(X, self.wei))\n",
        "      grad = np.dot(X.T, (h - y)) / y.size\n",
        "      self.wei -= self.ac * grad\n",
        "    pass\n",
        "\n",
        "  def predict(self, X):\n",
        "    X = self.AddIntercept(X)\n",
        "    return self.Sigmoid(np.dot(X, self.wei))"
      ],
      "execution_count": 4,
      "outputs": []
    },
    {
      "cell_type": "code",
      "metadata": {
        "id": "0rAej0uVG7PW",
        "colab_type": "code",
        "colab": {}
      },
      "source": [
        "class KNN():\n",
        "  def __init__(self, neighbors = 5):\n",
        "    self.nei = neighbors\n",
        "    \n",
        "  def fit(self, X, y):\n",
        "    self.X = X\n",
        "    self.y = y.reshape((y.shape[0], 1))\n",
        "\n",
        "  def Distances(self, p):\n",
        "    t = self.X - p\n",
        "    return np.sqrt((t ** 2).sum(1))\n",
        "\n",
        "  def predict(self, X):\n",
        "    n = X.shape[0]\n",
        "    pred = np.zeros((n, 1))\n",
        "    for i in range(n):\n",
        "      d = self.Distances(X[i])\n",
        "      sorted = self.y[np.argsort(d)].flatten()\n",
        "      if sorted[:self.nei].sum() > self.nei / 2:\n",
        "        pred[i] = 1.0\n",
        "    return pred"
      ],
      "execution_count": 5,
      "outputs": []
    },
    {
      "cell_type": "code",
      "metadata": {
        "id": "xIwDhiJkGuUO",
        "colab_type": "code",
        "colab": {}
      },
      "source": [
        "class Node():\n",
        "  def __init__(self, predClass):\n",
        "    self.predClass = predClass\n",
        "    self.index = 0\n",
        "    self.threshold = 0\n",
        "    self.left = None\n",
        "    self.right = None\n",
        "\n",
        "class DecisionTree():\n",
        "  def __init__(self, maxDepth = 1, rf = False):\n",
        "    self.maxDepth = maxDepth\n",
        "    self.rf = rf\n",
        "\n",
        "  def fit(self, X, y, maxFeatures = None):\n",
        "    self.classes = len(set(y))\n",
        "    if not self.rf:\n",
        "      Features = X.shape[1]\n",
        "    else:\n",
        "      ind = np.random.choice(X.shape[0], X.shape[0])\n",
        "      X, y = X[tuple([ind])], y[tuple([ind])]\n",
        "      if maxFeatures is None:\n",
        "        Features = np.sqrt(X.shape[1]).astype(int)\n",
        "      else:\n",
        "        Features = maxFeatures\n",
        "    self.features = np.sort(np.random.choice(X.shape[1], Features, replace = False))\n",
        "    self.tree = self.GrowTree(X, y)\n",
        "\n",
        "  def predict(self, X):\n",
        "    list = []\n",
        "    for inputs in X:\n",
        "      node = self.tree\n",
        "      while node.left:\n",
        "        if inputs[node.featureIndex] < node.threshold:\n",
        "          node = node.left\n",
        "        else:\n",
        "          node = node.right\n",
        "      list.append(node.predClass)\n",
        "    return list\n",
        "\n",
        "  def Split(self, X, y):\n",
        "    m = y.size\n",
        "    if m <= 1:\n",
        "      return None, None\n",
        "    parent = [np.sum(y == c) for c in range(self.classes)]\n",
        "    bestGini = 1.0 - sum((n / m) ** 2 for n in parent)\n",
        "    bestIdx, bestThr = None, None\n",
        "    for idx in self.features:\n",
        "      thresholds, classes = zip(*sorted(zip(X[:, idx], y)))\n",
        "      left = [0] * self.classes\n",
        "      right = parent.copy()\n",
        "      for i in range(1, m):\n",
        "        c = classes[i - 1]\n",
        "        left[c] += 1\n",
        "        right[c] -= 1\n",
        "        giniLeft = 1.0 - sum((left[x] / i) ** 2 for x in range(self.classes))\n",
        "        giniRight = 1.0 - sum((right[x] / (m - i)) ** 2 for x in range(self.classes))\n",
        "        gini = (i * giniLeft + (m - i) * giniRight) / m\n",
        "        if thresholds[i] == thresholds[i - 1]:\n",
        "          continue\n",
        "        if gini < bestGini:\n",
        "          bestGini = gini\n",
        "          bestIdx = idx\n",
        "          bestThr = (thresholds[i] + thresholds[i - 1]) / 2\n",
        "    return bestIdx, bestThr\n",
        "\n",
        "  def GrowTree(self, X, y, depth = 0):\n",
        "    samplesPerClass = [np.sum(y == i) for i in range(self.classes)]\n",
        "    predClass = np.argmax(samplesPerClass)\n",
        "    node = Node(predClass = predClass)\n",
        "    if depth < self.maxDepth:\n",
        "      idx, thr = self.Split(X, y)\n",
        "      if idx is not None:\n",
        "        indicesLeft = X[:, idx] < thr\n",
        "        XLeft, yLeft = X[indicesLeft], y[indicesLeft]\n",
        "        XRight, yRight = X[~indicesLeft], y[~indicesLeft]\n",
        "        node.featureIndex = idx\n",
        "        node.threshold = thr\n",
        "        node.left = self.GrowTree(XLeft, yLeft, depth + 1)\n",
        "        node.right = self.GrowTree(XRight, yRight, depth + 1)\n",
        "    return node\n",
        "\n"
      ],
      "execution_count": 6,
      "outputs": []
    },
    {
      "cell_type": "code",
      "metadata": {
        "id": "Fo9C0vXF-Ab-",
        "colab_type": "code",
        "colab": {}
      },
      "source": [
        "class SVM:\n",
        "  def __init__(self, C = 1, maxIter = 100, eps = 0.01, randomState = None, verbose = 0):\n",
        "    self.C = C\n",
        "    self.maxIter = maxIter\n",
        "    self.eps = eps\n",
        "    self.randomState = randomState\n",
        "    self.verbose = verbose\n",
        "\n",
        "  def PartialGradient(self, X, y, i):\n",
        "    g = np.dot(X[i], self.coef.T) + 1\n",
        "    return g\n",
        "\n",
        "  def Violation(self, g, y, i):\n",
        "    smallest = np.inf\n",
        "    for k in range(g.shape[0]):\n",
        "      if k == y[i] and self.dualCoef[k, i] >= self.C:\n",
        "        continue\n",
        "      elif k != y[i] and self.dualCoef[k, i] >= 0:\n",
        "        continue\n",
        "      smallest = min(smallest, g[k])\n",
        "    return g.max() - smallest\n",
        "\n",
        "  def Solver(self, g, y, norms, i):\n",
        "    Ci = np.zeros(g.shape[0])\n",
        "    Ci[y[i]] = self.C\n",
        "    beta_hat = norms[i] * (Ci - self.dualCoef[:, i]) + g / norms[i]\n",
        "    z = self.C * norms[i]\n",
        "    beta = projection_simplex(beta_hat, z)\n",
        "    return Ci - self.dualCoef[:, i] - beta / norms[i]\n",
        "\n",
        "  def fit(self, X, y):\n",
        "    samples, features = X.shape\n",
        "    classes = 4\n",
        "    self.dualCoef = np.zeros((classes, samples), dtype = np.float64)\n",
        "    self.coef = np.zeros((classes, features))\n",
        "    norms = np.sqrt(np.sum(X ** 2, axis = 1))\n",
        "    rs = check_random_state(self.randomState)\n",
        "    ind = np.arange(samples)\n",
        "    rs.shuffle(ind)\n",
        "    violationInit = None\n",
        "    for it in range(self.maxIter):\n",
        "      violationSum = 0\n",
        "      for idx in range(samples):\n",
        "        i = ind[idx]\n",
        "        if norms[i] == 0:\n",
        "          continue\n",
        "        g = self.PartialGradient(X, y, i)\n",
        "        v = self.Violation(g, y, i)\n",
        "        violationSum += v\n",
        "        if v < 1e-12:\n",
        "          continue\n",
        "        delta = self.Solver(g, y, norms, i)\n",
        "        self.coef += (delta * X[i][:, np.newaxis]).T\n",
        "        self.dualCoef[:, i] += delta\n",
        "      if it == 0:\n",
        "        violationInit = violationSum\n",
        "      vratio = violationSum / violationInit\n",
        "      if vratio < self.eps:\n",
        "        break\n",
        "    return self\n",
        "\n",
        "  def predict(self, X):\n",
        "    decision = np.dot(X, self.coef.T)\n",
        "    pred = decision.argmax(axis = 1)\n",
        "    return pred"
      ],
      "execution_count": 7,
      "outputs": []
    },
    {
      "cell_type": "markdown",
      "metadata": {
        "id": "YHapjanMc1_1",
        "colab_type": "text"
      },
      "source": [
        "# **For dataset 1**"
      ]
    },
    {
      "cell_type": "code",
      "metadata": {
        "id": "MMTQvLbcc2PI",
        "colab_type": "code",
        "colab": {
          "base_uri": "https://localhost:8080/",
          "height": 34
        },
        "outputId": "4c779820-eb2e-4011-e75f-0ddc4d8e43cf"
      },
      "source": [
        "anime = pandas.read_csv(\"data_new.csv\")\n",
        "anime[\"episode_class\"].unique()"
      ],
      "execution_count": 8,
      "outputs": [
        {
          "output_type": "execute_result",
          "data": {
            "text/plain": [
              "array([4, 3, 1, 2, 0])"
            ]
          },
          "metadata": {
            "tags": []
          },
          "execution_count": 8
        }
      ]
    },
    {
      "cell_type": "code",
      "metadata": {
        "id": "JWdXyYN1c2mG",
        "colab_type": "code",
        "colab": {}
      },
      "source": [
        "needed = [\"episodes\"]\n",
        "y = anime[\"episode_class\"].map({0 : 0, 1 : 1, 2 : 2, 3 : 3, 4 : 4})\n",
        "X = pandas.get_dummies(anime[needed])"
      ],
      "execution_count": 9,
      "outputs": []
    },
    {
      "cell_type": "code",
      "metadata": {
        "id": "4jWI1v-nc3pD",
        "colab_type": "code",
        "colab": {
          "base_uri": "https://localhost:8080/",
          "height": 136
        },
        "outputId": "2767ceae-a641-4880-e3ba-231972e8005b"
      },
      "source": [
        "%%time\n",
        "print_metrics(LogReg(), X, y)"
      ],
      "execution_count": 10,
      "outputs": [
        {
          "output_type": "stream",
          "text": [
            "precision: 0.13337062937062938 \n",
            "recall: 0.2 \n",
            "\n",
            "train_accuracy: 0.6668530002662953 \n",
            "test_accuracy: 0.6668531468531469\n",
            "CPU times: user 443 ms, sys: 398 µs, total: 444 ms\n",
            "Wall time: 449 ms\n"
          ],
          "name": "stdout"
        }
      ]
    },
    {
      "cell_type": "code",
      "metadata": {
        "id": "xXiGsDPYMOKy",
        "colab_type": "code",
        "colab": {
          "base_uri": "https://localhost:8080/",
          "height": 136
        },
        "outputId": "dbf9cb2e-bccb-4958-e2d3-cd1a73eec565"
      },
      "source": [
        "%%time\n",
        "print_metrics(LogisticRegression(), X, y)"
      ],
      "execution_count": 11,
      "outputs": [
        {
          "output_type": "stream",
          "text": [
            "precision: 0.9988360974194164 \n",
            "recall: 0.9906994535519125 \n",
            "\n",
            "train_accuracy: 0.9960871652664796 \n",
            "test_accuracy: 0.9960866507793881\n",
            "CPU times: user 1.57 s, sys: 1.18 s, total: 2.75 s\n",
            "Wall time: 1.4 s\n"
          ],
          "name": "stdout"
        }
      ]
    },
    {
      "cell_type": "code",
      "metadata": {
        "id": "GtubAxMSc3wI",
        "colab_type": "code",
        "colab": {
          "base_uri": "https://localhost:8080/",
          "height": 136
        },
        "outputId": "2d55fac6-da14-4da0-d7ed-e98c2f858755"
      },
      "source": [
        "%%time\n",
        "print_metrics(KNN(neighbors = 4), X, y)"
      ],
      "execution_count": 12,
      "outputs": [
        {
          "output_type": "stream",
          "text": [
            "precision: 0.336420846106683 \n",
            "recall: 0.4 \n",
            "\n",
            "train_accuracy: 0.6892118606193431 \n",
            "test_accuracy: 0.6892120170332461\n",
            "CPU times: user 3.41 s, sys: 2.06 ms, total: 3.41 s\n",
            "Wall time: 3.41 s\n"
          ],
          "name": "stdout"
        }
      ]
    },
    {
      "cell_type": "code",
      "metadata": {
        "id": "AtksMshzMO0m",
        "colab_type": "code",
        "colab": {
          "base_uri": "https://localhost:8080/",
          "height": 136
        },
        "outputId": "208617a5-ae61-4e47-ba4c-0c3fc92dc74c"
      },
      "source": [
        "%%time\n",
        "print_metrics(KNeighborsClassifier(n_neighbors = 4), X, y)"
      ],
      "execution_count": 13,
      "outputs": [
        {
          "output_type": "stream",
          "text": [
            "precision: 1.0 \n",
            "recall: 1.0 \n",
            "\n",
            "train_accuracy: 1.0 \n",
            "test_accuracy: 1.0\n",
            "CPU times: user 519 ms, sys: 0 ns, total: 519 ms\n",
            "Wall time: 521 ms\n"
          ],
          "name": "stdout"
        }
      ]
    },
    {
      "cell_type": "code",
      "metadata": {
        "id": "s9123HRNc33b",
        "colab_type": "code",
        "colab": {
          "base_uri": "https://localhost:8080/",
          "height": 136
        },
        "outputId": "a1333bdf-24b8-4b49-9666-5ec1fbdc5b44"
      },
      "source": [
        "%%time\n",
        "print_metrics(DecisionTree(maxDepth = 5), X, y)"
      ],
      "execution_count": 14,
      "outputs": [
        {
          "output_type": "stream",
          "text": [
            "precision: 1.0 \n",
            "recall: 1.0 \n",
            "\n",
            "train_accuracy: 1.0 \n",
            "test_accuracy: 1.0\n",
            "CPU times: user 523 ms, sys: 2.45 ms, total: 526 ms\n",
            "Wall time: 528 ms\n"
          ],
          "name": "stdout"
        }
      ]
    },
    {
      "cell_type": "code",
      "metadata": {
        "id": "S7eHvXRXMPRD",
        "colab_type": "code",
        "colab": {
          "base_uri": "https://localhost:8080/",
          "height": 136
        },
        "outputId": "ed8bbc29-4342-4d0f-c919-08c9cba24624"
      },
      "source": [
        "%%time\n",
        "print_metrics(DecisionTreeClassifier(max_depth = 5), X, y)"
      ],
      "execution_count": 15,
      "outputs": [
        {
          "output_type": "stream",
          "text": [
            "precision: 1.0 \n",
            "recall: 1.0 \n",
            "\n",
            "train_accuracy: 1.0 \n",
            "test_accuracy: 1.0\n",
            "CPU times: user 38.7 ms, sys: 726 µs, total: 39.4 ms\n",
            "Wall time: 44.2 ms\n"
          ],
          "name": "stdout"
        }
      ]
    },
    {
      "cell_type": "code",
      "metadata": {
        "id": "sj_CBjzmc39P",
        "colab_type": "code",
        "colab": {
          "base_uri": "https://localhost:8080/",
          "height": 136
        },
        "outputId": "21b38245-e448-483b-a8b4-eb7aa4580eea"
      },
      "source": [
        "%%time\n",
        "print_metrics(SVM(), X, y)"
      ],
      "execution_count": 16,
      "outputs": [
        {
          "output_type": "stream",
          "text": [
            "precision: 0.004471774036019846 \n",
            "recall: 0.2 \n",
            "\n",
            "train_accuracy: 0.022358860353047738 \n",
            "test_accuracy: 0.02235887018009923\n",
            "CPU times: user 22.9 s, sys: 10.1 ms, total: 22.9 s\n",
            "Wall time: 22.9 s\n"
          ],
          "name": "stdout"
        }
      ]
    },
    {
      "cell_type": "code",
      "metadata": {
        "id": "S75Qbb_uMPxm",
        "colab_type": "code",
        "colab": {
          "base_uri": "https://localhost:8080/",
          "height": 136
        },
        "outputId": "d18183a7-bf31-478c-dd5b-9433e205c358"
      },
      "source": [
        "%%time\n",
        "print_metrics(SVC(decision_function_shape = 'ovr'), X, y)"
      ],
      "execution_count": 17,
      "outputs": [
        {
          "output_type": "stream",
          "text": [
            "precision: 0.8232503238603044 \n",
            "recall: 0.7514443064525033 \n",
            "\n",
            "train_accuracy: 0.9576577031759943 \n",
            "test_accuracy: 0.9566765636598038\n",
            "CPU times: user 508 ms, sys: 1.93 ms, total: 510 ms\n",
            "Wall time: 511 ms\n"
          ],
          "name": "stdout"
        }
      ]
    },
    {
      "cell_type": "markdown",
      "metadata": {
        "id": "lSwMEAJgc4PV",
        "colab_type": "text"
      },
      "source": [
        "# **For dataset 2**"
      ]
    },
    {
      "cell_type": "code",
      "metadata": {
        "id": "zsTeGrw0c4bz",
        "colab_type": "code",
        "colab": {
          "base_uri": "https://localhost:8080/",
          "height": 68
        },
        "outputId": "a6e10ef1-97be-419e-845e-cddbe3abaa6e"
      },
      "source": [
        "google = pandas.read_csv(\"google_new.csv\")\n",
        "google[\"Rating\"].unique()"
      ],
      "execution_count": 18,
      "outputs": [
        {
          "output_type": "execute_result",
          "data": {
            "text/plain": [
              "array([4.1, 3.9, 4.7, 4.5, 4.3, 4.4, 3.8, 4.2, 4.6, 3.2, 4. , 4.8, 4.9,\n",
              "       3.6, 3.7, 3.3, 3.4, 3.5, 3.1, 5. , 2.6, 3. , 1.9, 2.5, 2.8, 2.7,\n",
              "       1. , 2.9, 2.3, 2.2, 1.7, 2. , 1.8, 2.4, 1.6, 2.1, 1.4, 1.5, 1.2])"
            ]
          },
          "metadata": {
            "tags": []
          },
          "execution_count": 18
        }
      ]
    },
    {
      "cell_type": "code",
      "metadata": {
        "id": "lMCykiaXc4d8",
        "colab_type": "code",
        "colab": {}
      },
      "source": [
        "needed = [\"Reviews\", \"Installs\"]\n",
        "yy = google[\"Rating\"].map({4.1 : 0, 3.9 : 1, 4.7 : 2, 4.5 : 3, 4.3 : 4, 4.4 : 5, 3.8 : 6, 4.2 : 7, 4.6 : 8, 3.2 : 9, 4. : 10, 4.8 : 11, 4.9 : 12,\n",
        "                 3.6 : 13, 3.7 : 14, 3.3 : 15, 3.4 : 16, 3.5 : 17, 3.1 : 18, 5. : 19, 2.6 : 20, 3. : 21, 1.9 : 22, 2.5 : 23, 2.8 : 24, 2.7 : 25,\n",
        "                 1. : 26, 2.9 : 27, 2.3 : 28, 2.2 : 29, 1.7 : 30, 2. : 31, 1.8 : 32, 2.4 : 33, 1.6 : 34, 2.1 : 35, 1.4 : 36, 1.5 : 37, 1.2 : 38})\n",
        "XX = pandas.get_dummies(google[needed])"
      ],
      "execution_count": 19,
      "outputs": []
    },
    {
      "cell_type": "code",
      "metadata": {
        "id": "T8SZKqwLc4gO",
        "colab_type": "code",
        "colab": {
          "base_uri": "https://localhost:8080/",
          "height": 136
        },
        "outputId": "d05aed7f-955f-41bf-85be-2adbe7121b26"
      },
      "source": [
        "%%time\n",
        "print_metrics(LogReg(), XX, yy)"
      ],
      "execution_count": 20,
      "outputs": [
        {
          "output_type": "stream",
          "text": [
            "precision: 0.001108342592481498 \n",
            "recall: 0.026892682155840054 \n",
            "\n",
            "train_accuracy: 0.041212898545137946 \n",
            "test_accuracy: 0.04121291098979431\n",
            "CPU times: user 2.09 s, sys: 1.51 s, total: 3.6 s\n",
            "Wall time: 1.83 s\n"
          ],
          "name": "stdout"
        }
      ]
    },
    {
      "cell_type": "code",
      "metadata": {
        "id": "HjejRPzQMQkY",
        "colab_type": "code",
        "colab": {
          "base_uri": "https://localhost:8080/",
          "height": 136
        },
        "outputId": "b3c5169f-2aa0-4032-d659-e75b8fbd605e"
      },
      "source": [
        "%%time\n",
        "print_metrics(LogisticRegression(), XX, yy)"
      ],
      "execution_count": 21,
      "outputs": [
        {
          "output_type": "stream",
          "text": [
            "precision: 0.016910236352581272 \n",
            "recall: 0.03152216371762873 \n",
            "\n",
            "train_accuracy: 0.12932421924459983 \n",
            "test_accuracy: 0.12865696372822577\n",
            "CPU times: user 20.8 s, sys: 14.9 s, total: 35.6 s\n",
            "Wall time: 18.1 s\n"
          ],
          "name": "stdout"
        }
      ]
    },
    {
      "cell_type": "code",
      "metadata": {
        "id": "l-ijG7n7c4kF",
        "colab_type": "code",
        "colab": {
          "base_uri": "https://localhost:8080/",
          "height": 136
        },
        "outputId": "7c73a3df-730b-49f6-e45e-a48bdde001ab"
      },
      "source": [
        "%%time\n",
        "print_metrics(KNN(neighbors = 6), XX, yy)"
      ],
      "execution_count": 22,
      "outputs": [
        {
          "output_type": "stream",
          "text": [
            "precision: 0.011634889424356084 \n",
            "recall: 0.026967074009012087 \n",
            "\n",
            "train_accuracy: 0.04190689740750381 \n",
            "test_accuracy: 0.04142641514164379\n",
            "CPU times: user 35.7 s, sys: 9.54 ms, total: 35.7 s\n",
            "Wall time: 35.7 s\n"
          ],
          "name": "stdout"
        }
      ]
    },
    {
      "cell_type": "code",
      "metadata": {
        "id": "O4dt2qDfMQ6F",
        "colab_type": "code",
        "colab": {
          "base_uri": "https://localhost:8080/",
          "height": 136
        },
        "outputId": "3d29e7d1-8424-4199-d8d9-5a859a8c0d60"
      },
      "source": [
        "%%time\n",
        "print_metrics(KNeighborsClassifier(n_neighbors = 6), XX, yy)"
      ],
      "execution_count": 23,
      "outputs": [
        {
          "output_type": "stream",
          "text": [
            "precision: 0.07654738391427982 \n",
            "recall: 0.07233332206055851 \n",
            "\n",
            "train_accuracy: 0.3772420658996983 \n",
            "test_accuracy: 0.18129203345183278\n",
            "CPU times: user 1.55 s, sys: 1.17 ms, total: 1.55 s\n",
            "Wall time: 1.56 s\n"
          ],
          "name": "stdout"
        }
      ]
    },
    {
      "cell_type": "code",
      "metadata": {
        "id": "VA5G8mBtc4oE",
        "colab_type": "code",
        "colab": {
          "base_uri": "https://localhost:8080/",
          "height": 136
        },
        "outputId": "315e2ba6-6815-42b8-e6d0-6f2094a8abd8"
      },
      "source": [
        "%%time\n",
        "print_metrics(DecisionTree(maxDepth = 7), XX, yy)"
      ],
      "execution_count": 24,
      "outputs": [
        {
          "output_type": "stream",
          "text": [
            "precision: 0.05606844547196253 \n",
            "recall: 0.05876589853021934 \n",
            "\n",
            "train_accuracy: 0.1969356948849002 \n",
            "test_accuracy: 0.16250155982817105\n",
            "CPU times: user 21.4 s, sys: 11.9 ms, total: 21.4 s\n",
            "Wall time: 21.4 s\n"
          ],
          "name": "stdout"
        }
      ]
    },
    {
      "cell_type": "code",
      "metadata": {
        "id": "GXKunOcjMRZK",
        "colab_type": "code",
        "colab": {
          "base_uri": "https://localhost:8080/",
          "height": 136
        },
        "outputId": "825a0d48-cc59-4d65-fc90-b13091fa9486"
      },
      "source": [
        "%%time\n",
        "print_metrics(DecisionTreeClassifier(max_depth = 7), XX, yy)"
      ],
      "execution_count": 25,
      "outputs": [
        {
          "output_type": "stream",
          "text": [
            "precision: 0.056105804240517254 \n",
            "recall: 0.05876589853021934 \n",
            "\n",
            "train_accuracy: 0.1969356948849002 \n",
            "test_accuracy: 0.16250155982817105\n",
            "CPU times: user 110 ms, sys: 956 µs, total: 111 ms\n",
            "Wall time: 112 ms\n"
          ],
          "name": "stdout"
        }
      ]
    },
    {
      "cell_type": "code",
      "metadata": {
        "id": "df_N9hlwc4mf",
        "colab_type": "code",
        "colab": {
          "base_uri": "https://localhost:8080/",
          "height": 136
        },
        "outputId": "ab8126d0-732a-4cd8-df0e-3e2d60f23994"
      },
      "source": [
        "%%time\n",
        "print_metrics(SVM(), XX, yy)"
      ],
      "execution_count": 26,
      "outputs": [
        {
          "output_type": "stream",
          "text": [
            "precision: 0.00203293833082738 \n",
            "recall: 0.026892682155840054 \n",
            "\n",
            "train_accuracy: 0.07559256765649007 \n",
            "test_accuracy: 0.07559254951991481\n",
            "CPU times: user 1min, sys: 46.4 ms, total: 1min\n",
            "Wall time: 1min\n"
          ],
          "name": "stdout"
        }
      ]
    },
    {
      "cell_type": "code",
      "metadata": {
        "id": "WZIAJhV0MR5H",
        "colab_type": "code",
        "colab": {
          "base_uri": "https://localhost:8080/",
          "height": 136
        },
        "outputId": "d7cfc780-44b0-4b2d-9d14-7b35cba832d8"
      },
      "source": [
        "%%time\n",
        "print_metrics(SVC(decision_function_shape = 'ovr'), XX, yy)"
      ],
      "execution_count": 27,
      "outputs": [
        {
          "output_type": "stream",
          "text": [
            "precision: 0.016579660847247178 \n",
            "recall: 0.027550303880359388 \n",
            "\n",
            "train_accuracy: 0.1229446860850159 \n",
            "test_accuracy: 0.11968802296978746\n",
            "CPU times: user 42 s, sys: 101 ms, total: 42.1 s\n",
            "Wall time: 42.1 s\n"
          ],
          "name": "stdout"
        }
      ]
    }
  ]
}