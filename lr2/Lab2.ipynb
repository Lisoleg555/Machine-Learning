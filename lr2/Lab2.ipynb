{
  "nbformat": 4,
  "nbformat_minor": 0,
  "metadata": {
    "kernelspec": {
      "display_name": "Python 3",
      "language": "python",
      "name": "python3"
    },
    "language_info": {
      "codemirror_mode": {
        "name": "ipython",
        "version": 3
      },
      "file_extension": ".py",
      "mimetype": "text/x-python",
      "name": "python",
      "nbconvert_exporter": "python",
      "pygments_lexer": "ipython3",
      "version": "3.7.6"
    },
    "colab": {
      "name": "Lab2.ipynb",
      "provenance": [],
      "collapsed_sections": [],
      "toc_visible": true
    }
  },
  "cells": [
    {
      "cell_type": "code",
      "metadata": {
        "id": "J3aex11XG1R7",
        "colab_type": "code",
        "colab": {}
      },
      "source": [
        "import pandas\n",
        "import cvxopt\n",
        "import numpy as np\n",
        "from sklearn.metrics import precision_score, recall_score, accuracy_score\n",
        "from sklearn.model_selection import StratifiedKFold\n",
        "from sklearn.utils import check_random_state"
      ],
      "execution_count": 97,
      "outputs": []
    },
    {
      "cell_type": "code",
      "metadata": {
        "id": "Qv3dzwsKG1lo",
        "colab_type": "code",
        "colab": {}
      },
      "source": [
        "def print_metrics(Method, X, y, folds = 5, average = 'macro'):\n",
        "  kf = StratifiedKFold(n_splits = folds, random_state = 123, shuffle = True)\n",
        "  precision = np.zeros(folds)   \n",
        "  recall = np.zeros(folds)  \n",
        "  testAc = np.zeros(folds)\n",
        "  trainAc = np.zeros(folds)\n",
        "  for i, (trainI, valI) in enumerate(kf.split(X, y)):\n",
        "    XT, yT = X.loc[trainI].to_numpy(), y.loc[trainI].to_numpy()\n",
        "    XV, yV = X.loc[valI].to_numpy(), y.loc[valI].to_numpy()\n",
        "    Method.Fit(XT, yT)\n",
        "    yP = Method.Predict(XV)\n",
        "    yTP = Method.Predict(XT)\n",
        "    precision[i] = precision_score(yV, yP, average = average)\n",
        "    recall[i] = recall_score(yV, yP, average = average)\n",
        "    trainAc[i] = accuracy_score(yT, yTP)\n",
        "    testAc[i] = accuracy_score(yV, yP)    \n",
        "  print(\"precision:\", precision.mean(), \"\\nrecall:\", recall.mean(), \"\\n\\ntrain_accuracy:\", trainAc.mean(), \"\\ntest_accuracy:\", testAc.mean())"
      ],
      "execution_count": 98,
      "outputs": []
    },
    {
      "cell_type": "code",
      "metadata": {
        "id": "IYTVDoMsG7M2",
        "colab_type": "code",
        "colab": {}
      },
      "source": [
        "class LogReg():\n",
        "  def __init__(self, accuracy = 0.01, iters = 1000):\n",
        "    self.it = iters\n",
        "    self.ac = accuracy\n",
        "        \n",
        "  def Sigmoid(self, x):\n",
        "    return 1 / (1 + np.exp(-x))\n",
        "\n",
        "  def AddIntercept(self, X):\n",
        "    return np.concatenate((np.ones((X.shape[0], 1)), X), axis = 1)\n",
        "\n",
        "  def Loss(self, h, y):\n",
        "    return (-y * np.log(h) - (1 - y) * np.log(1 - h)).mean()\n",
        "\n",
        "  def Fit(self, X, y):\n",
        "    X = self.AddIntercept(X)\n",
        "    self.wei = np.zeros(X.shape[1])\n",
        "    for _ in range(self.it):\n",
        "      h = self.Sigmoid(np.dot(X, self.wei))\n",
        "      grad = np.dot(X.T, (h - y)) / y.size\n",
        "      self.wei -= self.ac * grad\n",
        "    pass\n",
        "\n",
        "  def Predict(self, X):\n",
        "    X = self.AddIntercept(X)\n",
        "    return self.Sigmoid(np.dot(X, self.wei))"
      ],
      "execution_count": 99,
      "outputs": []
    },
    {
      "cell_type": "code",
      "metadata": {
        "id": "0rAej0uVG7PW",
        "colab_type": "code",
        "colab": {}
      },
      "source": [
        "class KNN():\n",
        "  def __init__(self, neighbors = 5):\n",
        "    self.nei = neighbors\n",
        "    \n",
        "  def Fit(self, X, y):\n",
        "    self.X = X\n",
        "    self.y = y.reshape((y.shape[0], 1))\n",
        "\n",
        "  def Distances(self, p):\n",
        "    t = self.X - p\n",
        "    return np.sqrt((t ** 2).sum(1))\n",
        "\n",
        "  def Predict(self, X):\n",
        "    n = X.shape[0]\n",
        "    pred = np.zeros((n, 1))\n",
        "    for i in range(n):\n",
        "      d = self.Distances(X[i])\n",
        "      sorted = self.y[np.argsort(d)].flatten()\n",
        "      if sorted[:self.nei].sum() > self.nei / 2:\n",
        "        pred[i] = 1.0\n",
        "    return pred"
      ],
      "execution_count": 101,
      "outputs": []
    },
    {
      "cell_type": "code",
      "metadata": {
        "id": "xIwDhiJkGuUO",
        "colab_type": "code",
        "colab": {}
      },
      "source": [
        "class Node():\n",
        "  def __init__(self, predClass):\n",
        "    self.predClass = predClass\n",
        "    self.index = 0\n",
        "    self.threshold = 0\n",
        "    self.left = None\n",
        "    self.right = None\n",
        "\n",
        "class DecisionTree():\n",
        "  def __init__(self, maxDepth = 1, rf = False):\n",
        "    self.maxDepth = maxDepth\n",
        "    self.rf = rf\n",
        "\n",
        "  def Fit(self, X, y, maxFeatures = None):\n",
        "    self.classes = len(set(y))\n",
        "    if not self.rf:\n",
        "      Features = X.shape[1]\n",
        "    else:\n",
        "      ind = np.random.choice(X.shape[0], X.shape[0])\n",
        "      X, y = X[tuple([ind])], y[tuple([ind])]\n",
        "      if maxFeatures is None:\n",
        "        Features = np.sqrt(X.shape[1]).astype(int)\n",
        "      else:\n",
        "        Features = maxFeatures\n",
        "    self.features = np.sort(np.random.choice(X.shape[1], Features, replace = False))\n",
        "    self.tree = self.GrowTree(X, y)\n",
        "\n",
        "  def Predict(self, X):\n",
        "    list = []\n",
        "    for inputs in X:\n",
        "      node = self.tree\n",
        "      while node.left:\n",
        "        if inputs[node.featureIndex] < node.threshold:\n",
        "          node = node.left\n",
        "        else:\n",
        "          node = node.right\n",
        "      list.append(node.predClass)\n",
        "    return list\n",
        "\n",
        "  def Split(self, X, y):\n",
        "    m = y.size\n",
        "    if m <= 1:\n",
        "      return None, None\n",
        "    parent = [np.sum(y == c) for c in range(self.classes)]\n",
        "    bestGini = 1.0 - sum((n / m) ** 2 for n in parent)\n",
        "    bestIdx, bestThr = None, None\n",
        "    for idx in self.features:\n",
        "      thresholds, classes = zip(*sorted(zip(X[:, idx], y)))\n",
        "      left = [0] * self.classes\n",
        "      right = parent.copy()\n",
        "      for i in range(1, m):\n",
        "        c = classes[i - 1]\n",
        "        left[c] += 1\n",
        "        right[c] -= 1\n",
        "        giniLeft = 1.0 - sum((left[x] / i) ** 2 for x in range(self.classes))\n",
        "        giniRight = 1.0 - sum((right[x] / (m - i)) ** 2 for x in range(self.classes))\n",
        "        gini = (i * giniLeft + (m - i) * giniRight) / m\n",
        "        if thresholds[i] == thresholds[i - 1]:\n",
        "          continue\n",
        "        if gini < bestGini:\n",
        "          bestGini = gini\n",
        "          bestIdx = idx\n",
        "          bestThr = (thresholds[i] + thresholds[i - 1]) / 2\n",
        "    return bestIdx, bestThr\n",
        "\n",
        "  def GrowTree(self, X, y, depth = 0):\n",
        "    samplesPerClass = [np.sum(y == i) for i in range(self.classes)]\n",
        "    predClass = np.argmax(samplesPerClass)\n",
        "    node = Node(predClass = predClass)\n",
        "    if depth < self.maxDepth:\n",
        "      idx, thr = self.Split(X, y)\n",
        "      if idx is not None:\n",
        "        indicesLeft = X[:, idx] < thr\n",
        "        XLeft, yLeft = X[indicesLeft], y[indicesLeft]\n",
        "        XRight, yRight = X[~indicesLeft], y[~indicesLeft]\n",
        "        node.featureIndex = idx\n",
        "        node.threshold = thr\n",
        "        node.left = self.GrowTree(XLeft, yLeft, depth + 1)\n",
        "        node.right = self.GrowTree(XRight, yRight, depth + 1)\n",
        "    return node\n",
        "\n"
      ],
      "execution_count": 102,
      "outputs": []
    },
    {
      "cell_type": "code",
      "metadata": {
        "id": "Fo9C0vXF-Ab-",
        "colab_type": "code",
        "colab": {}
      },
      "source": [
        "class SVM:\n",
        "  def __init__(self, C = 1, maxIter = 100, eps = 0.01, randomState = None, verbose = 0):\n",
        "    self.C = C\n",
        "    self.maxIter = maxIter\n",
        "    self.eps = eps\n",
        "    self.randomState = randomState\n",
        "    self.verbose = verbose\n",
        "\n",
        "  def PartialGradient(self, X, y, i):\n",
        "    g = np.dot(X[i], self.coef.T) + 1\n",
        "    return g\n",
        "\n",
        "  def Violation(self, g, y, i):\n",
        "    smallest = np.inf\n",
        "    for k in range(g.shape[0]):\n",
        "      if k == y[i] and self.dualCoef[k, i] >= self.C:\n",
        "        continue\n",
        "      elif k != y[i] and self.dualCoef[k, i] >= 0:\n",
        "        continue\n",
        "      smallest = min(smallest, g[k])\n",
        "    return g.max() - smallest\n",
        "\n",
        "  def Solver(self, g, y, norms, i):\n",
        "    Ci = np.zeros(g.shape[0])\n",
        "    Ci[y[i]] = self.C\n",
        "    beta_hat = norms[i] * (Ci - self.dualCoef[:, i]) + g / norms[i]\n",
        "    z = self.C * norms[i]\n",
        "    beta = projection_simplex(beta_hat, z)\n",
        "    return Ci - self.dualCoef[:, i] - beta / norms[i]\n",
        "\n",
        "  def Fit(self, X, y):\n",
        "    samples, features = X.shape\n",
        "    classes = 4\n",
        "    self.dualCoef = np.zeros((classes, samples), dtype = np.float64)\n",
        "    self.coef = np.zeros((classes, features))\n",
        "    norms = np.sqrt(np.sum(X ** 2, axis = 1))\n",
        "    rs = check_random_state(self.randomState)\n",
        "    ind = np.arange(samples)\n",
        "    rs.shuffle(ind)\n",
        "    violationInit = None\n",
        "    for it in range(self.maxIter):\n",
        "      violationSum = 0\n",
        "      for idx in range(samples):\n",
        "        i = ind[idx]\n",
        "        if norms[i] == 0:\n",
        "          continue\n",
        "        g = self.PartialGradient(X, y, i)\n",
        "        v = self.Violation(g, y, i)\n",
        "        violationSum += v\n",
        "        if v < 1e-12:\n",
        "          continue\n",
        "        delta = self.Solver(g, y, norms, i)\n",
        "        self.coef += (delta * X[i][:, np.newaxis]).T\n",
        "        self.dualCoef[:, i] += delta\n",
        "      if it == 0:\n",
        "        violationInit = violationSum\n",
        "      vratio = violationSum / violationInit\n",
        "      if vratio < self.eps:\n",
        "        break\n",
        "    return self\n",
        "\n",
        "  def Predict(self, X):\n",
        "    decision = np.dot(X, self.coef.T)\n",
        "    pred = decision.argmax(axis = 1)\n",
        "    return pred"
      ],
      "execution_count": 103,
      "outputs": []
    },
    {
      "cell_type": "markdown",
      "metadata": {
        "id": "YHapjanMc1_1",
        "colab_type": "text"
      },
      "source": [
        "# **For dataset 1**"
      ]
    },
    {
      "cell_type": "code",
      "metadata": {
        "id": "MMTQvLbcc2PI",
        "colab_type": "code",
        "colab": {
          "base_uri": "https://localhost:8080/",
          "height": 34
        },
        "outputId": "53541a38-01ef-46d2-9ca6-1b7657f750b3"
      },
      "source": [
        "anime = pandas.read_csv(\"data_new.csv\")\n",
        "anime[\"episode_class\"].unique()"
      ],
      "execution_count": 104,
      "outputs": [
        {
          "output_type": "execute_result",
          "data": {
            "text/plain": [
              "array([4, 3, 1, 2, 0])"
            ]
          },
          "metadata": {
            "tags": []
          },
          "execution_count": 104
        }
      ]
    },
    {
      "cell_type": "code",
      "metadata": {
        "id": "JWdXyYN1c2mG",
        "colab_type": "code",
        "colab": {}
      },
      "source": [
        "needed = [\"episodes\"]\n",
        "y = anime[\"episode_class\"].map({0 : 0, 1 : 1, 2 : 2, 3 : 3, 4 : 4})\n",
        "X = pandas.get_dummies(anime[needed])"
      ],
      "execution_count": 105,
      "outputs": []
    },
    {
      "cell_type": "code",
      "metadata": {
        "id": "4jWI1v-nc3pD",
        "colab_type": "code",
        "colab": {
          "base_uri": "https://localhost:8080/",
          "height": 190
        },
        "outputId": "b0293ea4-09c7-4924-a1e1-f04458581c52"
      },
      "source": [
        "%%time\n",
        "print_metrics(LogReg(), X, y)"
      ],
      "execution_count": 106,
      "outputs": [
        {
          "output_type": "stream",
          "text": [
            "/usr/local/lib/python3.6/dist-packages/sklearn/metrics/_classification.py:1272: UndefinedMetricWarning: Precision is ill-defined and being set to 0.0 in labels with no predicted samples. Use `zero_division` parameter to control this behavior.\n",
            "  _warn_prf(average, modifier, msg_start, len(result))\n"
          ],
          "name": "stderr"
        },
        {
          "output_type": "stream",
          "text": [
            "precision: 0.13337062937062938 \n",
            "recall: 0.2 \n",
            "\n",
            "train_accuracy: 0.6668530002662953 \n",
            "test_accuracy: 0.6668531468531469\n",
            "CPU times: user 446 ms, sys: 998 µs, total: 447 ms\n",
            "Wall time: 449 ms\n"
          ],
          "name": "stdout"
        }
      ]
    },
    {
      "cell_type": "code",
      "metadata": {
        "id": "GtubAxMSc3wI",
        "colab_type": "code",
        "colab": {
          "base_uri": "https://localhost:8080/",
          "height": 190
        },
        "outputId": "28864bd0-1e1c-4105-afd3-cc5c83fddcf3"
      },
      "source": [
        "%%time\n",
        "print_metrics(KNN(neighbors = 3), X, y)"
      ],
      "execution_count": 107,
      "outputs": [
        {
          "output_type": "stream",
          "text": [
            "/usr/local/lib/python3.6/dist-packages/sklearn/metrics/_classification.py:1272: UndefinedMetricWarning: Precision is ill-defined and being set to 0.0 in labels with no predicted samples. Use `zero_division` parameter to control this behavior.\n",
            "  _warn_prf(average, modifier, msg_start, len(result))\n"
          ],
          "name": "stderr"
        },
        {
          "output_type": "stream",
          "text": [
            "precision: 0.336420846106683 \n",
            "recall: 0.4 \n",
            "\n",
            "train_accuracy: 0.6892118606193431 \n",
            "test_accuracy: 0.6892120170332461\n",
            "CPU times: user 3.42 s, sys: 2.96 ms, total: 3.42 s\n",
            "Wall time: 3.44 s\n"
          ],
          "name": "stdout"
        }
      ]
    },
    {
      "cell_type": "code",
      "metadata": {
        "id": "s9123HRNc33b",
        "colab_type": "code",
        "colab": {
          "base_uri": "https://localhost:8080/",
          "height": 136
        },
        "outputId": "e47f920a-6b0b-4b94-819d-a762b7072e84"
      },
      "source": [
        "%%time\n",
        "print_metrics(DecisionTree(maxDepth = 4), X, y)"
      ],
      "execution_count": 108,
      "outputs": [
        {
          "output_type": "stream",
          "text": [
            "precision: 1.0 \n",
            "recall: 1.0 \n",
            "\n",
            "train_accuracy: 1.0 \n",
            "test_accuracy: 1.0\n",
            "CPU times: user 542 ms, sys: 2.02 ms, total: 544 ms\n",
            "Wall time: 544 ms\n"
          ],
          "name": "stdout"
        }
      ]
    },
    {
      "cell_type": "code",
      "metadata": {
        "id": "sj_CBjzmc39P",
        "colab_type": "code",
        "colab": {
          "base_uri": "https://localhost:8080/",
          "height": 207
        },
        "outputId": "0e25a9d1-80da-4a25-ea81-292ed02b722c"
      },
      "source": [
        "%%time\n",
        "print_metrics(SVM(), X, y)"
      ],
      "execution_count": 109,
      "outputs": [
        {
          "output_type": "stream",
          "text": [
            "/usr/local/lib/python3.6/dist-packages/ipykernel_launcher.py:57: RuntimeWarning: invalid value encountered in double_scalars\n",
            "/usr/local/lib/python3.6/dist-packages/sklearn/metrics/_classification.py:1272: UndefinedMetricWarning: Precision is ill-defined and being set to 0.0 in labels with no predicted samples. Use `zero_division` parameter to control this behavior.\n",
            "  _warn_prf(average, modifier, msg_start, len(result))\n"
          ],
          "name": "stderr"
        },
        {
          "output_type": "stream",
          "text": [
            "precision: 0.004471774036019846 \n",
            "recall: 0.2 \n",
            "\n",
            "train_accuracy: 0.022358860353047738 \n",
            "test_accuracy: 0.02235887018009923\n",
            "CPU times: user 23.4 s, sys: 53.4 ms, total: 23.4 s\n",
            "Wall time: 23.5 s\n"
          ],
          "name": "stdout"
        }
      ]
    },
    {
      "cell_type": "markdown",
      "metadata": {
        "id": "lSwMEAJgc4PV",
        "colab_type": "text"
      },
      "source": [
        "# **For dataset 2**"
      ]
    },
    {
      "cell_type": "code",
      "metadata": {
        "id": "zsTeGrw0c4bz",
        "colab_type": "code",
        "colab": {
          "base_uri": "https://localhost:8080/",
          "height": 68
        },
        "outputId": "13df8bf2-9928-4a45-9b5f-2adcfd61dbff"
      },
      "source": [
        "google = pandas.read_csv(\"google_new.csv\")\n",
        "google[\"Rating\"].unique()"
      ],
      "execution_count": 110,
      "outputs": [
        {
          "output_type": "execute_result",
          "data": {
            "text/plain": [
              "array([4.1, 3.9, 4.7, 4.5, 4.3, 4.4, 3.8, 4.2, 4.6, 3.2, 4. , 4.8, 4.9,\n",
              "       3.6, 3.7, 3.3, 3.4, 3.5, 3.1, 5. , 2.6, 3. , 1.9, 2.5, 2.8, 2.7,\n",
              "       1. , 2.9, 2.3, 2.2, 1.7, 2. , 1.8, 2.4, 1.6, 2.1, 1.4, 1.5, 1.2])"
            ]
          },
          "metadata": {
            "tags": []
          },
          "execution_count": 110
        }
      ]
    },
    {
      "cell_type": "code",
      "metadata": {
        "id": "lMCykiaXc4d8",
        "colab_type": "code",
        "colab": {}
      },
      "source": [
        "needed = [\"Reviews\", \"Installs\"]\n",
        "yy = google[\"Rating\"].map({4.1 : 0, 3.9 : 1, 4.7 : 2, 4.5 : 3, 4.3 : 4, 4.4 : 5, 3.8 : 6, 4.2 : 7, 4.6 : 8, 3.2 : 9, 4. : 10, 4.8 : 11, 4.9 : 12,\n",
        "                 3.6 : 13, 3.7 : 14, 3.3 : 15, 3.4 : 16, 3.5 : 17, 3.1 : 18, 5. : 19, 2.6 : 20, 3. : 21, 1.9 : 22, 2.5 : 23, 2.8 : 24, 2.7 : 25,\n",
        "                 1. : 26, 2.9 : 27, 2.3 : 28, 2.2 : 29, 1.7 : 30, 2. : 31, 1.8 : 32, 2.4 : 33, 1.6 : 34, 2.1 : 35, 1.4 : 36, 1.5 : 37, 1.2 : 38})\n",
        "XX = pandas.get_dummies(google[needed])"
      ],
      "execution_count": 111,
      "outputs": []
    },
    {
      "cell_type": "code",
      "metadata": {
        "id": "T8SZKqwLc4gO",
        "colab_type": "code",
        "colab": {
          "base_uri": "https://localhost:8080/",
          "height": 224
        },
        "outputId": "f1ccd3a7-7eeb-4995-feec-d503fc03a7fc"
      },
      "source": [
        "%%time\n",
        "print_metrics(LogReg(), XX, yy)"
      ],
      "execution_count": 112,
      "outputs": [
        {
          "output_type": "stream",
          "text": [
            "/usr/local/lib/python3.6/dist-packages/sklearn/model_selection/_split.py:667: UserWarning: The least populated class in y has only 1 members, which is less than n_splits=5.\n",
            "  % (min_groups, self.n_splits)), UserWarning)\n",
            "/usr/local/lib/python3.6/dist-packages/sklearn/metrics/_classification.py:1272: UndefinedMetricWarning: Precision is ill-defined and being set to 0.0 in labels with no predicted samples. Use `zero_division` parameter to control this behavior.\n",
            "  _warn_prf(average, modifier, msg_start, len(result))\n"
          ],
          "name": "stderr"
        },
        {
          "output_type": "stream",
          "text": [
            "precision: 0.001108342592481498 \n",
            "recall: 0.026892682155840054 \n",
            "\n",
            "train_accuracy: 0.041212898545137946 \n",
            "test_accuracy: 0.04121291098979431\n",
            "CPU times: user 2.06 s, sys: 1.44 s, total: 3.5 s\n",
            "Wall time: 1.79 s\n"
          ],
          "name": "stdout"
        }
      ]
    },
    {
      "cell_type": "code",
      "metadata": {
        "id": "l-ijG7n7c4kF",
        "colab_type": "code",
        "colab": {
          "base_uri": "https://localhost:8080/",
          "height": 224
        },
        "outputId": "f1c5dcd8-d3dd-459d-93a3-701cdc9b6073"
      },
      "source": [
        "%%time\n",
        "print_metrics(KNN(neighbors = 3), XX, yy)"
      ],
      "execution_count": 113,
      "outputs": [
        {
          "output_type": "stream",
          "text": [
            "/usr/local/lib/python3.6/dist-packages/sklearn/model_selection/_split.py:667: UserWarning: The least populated class in y has only 1 members, which is less than n_splits=5.\n",
            "  % (min_groups, self.n_splits)), UserWarning)\n",
            "/usr/local/lib/python3.6/dist-packages/sklearn/metrics/_classification.py:1272: UndefinedMetricWarning: Precision is ill-defined and being set to 0.0 in labels with no predicted samples. Use `zero_division` parameter to control this behavior.\n",
            "  _warn_prf(average, modifier, msg_start, len(result))\n"
          ],
          "name": "stderr"
        },
        {
          "output_type": "stream",
          "text": [
            "precision: 0.011001900409462887 \n",
            "recall: 0.02735778713098398 \n",
            "\n",
            "train_accuracy: 0.04695172337035834 \n",
            "test_accuracy: 0.042707497032765225\n",
            "CPU times: user 35.5 s, sys: 25.7 ms, total: 35.5 s\n",
            "Wall time: 35.7 s\n"
          ],
          "name": "stdout"
        }
      ]
    },
    {
      "cell_type": "code",
      "metadata": {
        "id": "VA5G8mBtc4oE",
        "colab_type": "code",
        "colab": {
          "base_uri": "https://localhost:8080/",
          "height": 224
        },
        "outputId": "c21fc9af-aa80-40fa-9175-e9e7aff4ed5b"
      },
      "source": [
        "%%time\n",
        "print_metrics(DecisionTree(maxDepth = 4), XX, yy)"
      ],
      "execution_count": 114,
      "outputs": [
        {
          "output_type": "stream",
          "text": [
            "/usr/local/lib/python3.6/dist-packages/sklearn/model_selection/_split.py:667: UserWarning: The least populated class in y has only 1 members, which is less than n_splits=5.\n",
            "  % (min_groups, self.n_splits)), UserWarning)\n",
            "/usr/local/lib/python3.6/dist-packages/sklearn/metrics/_classification.py:1272: UndefinedMetricWarning: Precision is ill-defined and being set to 0.0 in labels with no predicted samples. Use `zero_division` parameter to control this behavior.\n",
            "  _warn_prf(average, modifier, msg_start, len(result))\n"
          ],
          "name": "stderr"
        },
        {
          "output_type": "stream",
          "text": [
            "precision: 0.03252191647166784 \n",
            "recall: 0.052495979339872004 \n",
            "\n",
            "train_accuracy: 0.1559897548799595 \n",
            "test_accuracy: 0.14712738055419913\n",
            "CPU times: user 12.7 s, sys: 11.9 ms, total: 12.7 s\n",
            "Wall time: 12.8 s\n"
          ],
          "name": "stdout"
        }
      ]
    },
    {
      "cell_type": "code",
      "metadata": {
        "id": "df_N9hlwc4mf",
        "colab_type": "code",
        "colab": {
          "base_uri": "https://localhost:8080/",
          "height": 241
        },
        "outputId": "7dbeb253-fc54-44a3-c7e6-0ee230ac248c"
      },
      "source": [
        "%%time\n",
        "print_metrics(SVM(), XX, yy)"
      ],
      "execution_count": 115,
      "outputs": [
        {
          "output_type": "stream",
          "text": [
            "/usr/local/lib/python3.6/dist-packages/sklearn/model_selection/_split.py:667: UserWarning: The least populated class in y has only 1 members, which is less than n_splits=5.\n",
            "  % (min_groups, self.n_splits)), UserWarning)\n",
            "/usr/local/lib/python3.6/dist-packages/ipykernel_launcher.py:57: RuntimeWarning: invalid value encountered in double_scalars\n",
            "/usr/local/lib/python3.6/dist-packages/sklearn/metrics/_classification.py:1272: UndefinedMetricWarning: Precision is ill-defined and being set to 0.0 in labels with no predicted samples. Use `zero_division` parameter to control this behavior.\n",
            "  _warn_prf(average, modifier, msg_start, len(result))\n"
          ],
          "name": "stderr"
        },
        {
          "output_type": "stream",
          "text": [
            "precision: 0.00203293833082738 \n",
            "recall: 0.026892682155840054 \n",
            "\n",
            "train_accuracy: 0.07559256765649007 \n",
            "test_accuracy: 0.07559254951991481\n",
            "CPU times: user 1min, sys: 75 ms, total: 1min\n",
            "Wall time: 1min\n"
          ],
          "name": "stdout"
        }
      ]
    }
  ]
}